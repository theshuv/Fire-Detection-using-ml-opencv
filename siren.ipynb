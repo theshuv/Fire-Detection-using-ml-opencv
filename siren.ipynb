{
 "cells": [
  {
   "cell_type": "code",
   "execution_count": 4,
   "metadata": {},
   "outputs": [],
   "source": [
    "import pyaudio  \n",
    "import wave  \n",
    "\n",
    "#define stream chunk  \n",
    "count =0 \n",
    "while(count<5):\n",
    "    chunk = 1024  \n",
    "    \n",
    "    #open a wav format music  \n",
    "    f = wave.open(\"fast.wav\",\"rb\")  \n",
    "    #instantiate PyAudio  \n",
    "    p = pyaudio.PyAudio()  \n",
    "    #open stream  \n",
    "    stream = p.open(format = p.get_format_from_width(f.getsampwidth()),  \n",
    "                    channels = f.getnchannels(),  \n",
    "                    rate = f.getframerate(),  \n",
    "                    output = True)  \n",
    "    #read data  \n",
    "    data = f.readframes(chunk)  \n",
    "    \n",
    "    #play stream  \n",
    "    while data:  \n",
    "        stream.write(data)  \n",
    "        data = f.readframes(chunk)  \n",
    "    \n",
    "    #stop stream  \n",
    "    stream.stop_stream()  \n",
    "    stream.close()  \n",
    "    count+=1\n",
    "    #close PyAudio  \n",
    "    p.terminate()"
   ]
  }
 ],
 "metadata": {
  "kernelspec": {
   "display_name": "Python 3",
   "language": "python",
   "name": "python3"
  },
  "language_info": {
   "codemirror_mode": {
    "name": "ipython",
    "version": 3
   },
   "file_extension": ".py",
   "mimetype": "text/x-python",
   "name": "python",
   "nbconvert_exporter": "python",
   "pygments_lexer": "ipython3",
   "version": "3.7.3"
  }
 },
 "nbformat": 4,
 "nbformat_minor": 2
}
